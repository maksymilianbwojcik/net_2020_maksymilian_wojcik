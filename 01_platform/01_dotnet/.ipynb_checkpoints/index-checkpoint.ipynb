{
 "cells": [
  {
   "cell_type": "markdown",
   "metadata": {},
   "source": [
    "# NET 2020"
   ]
  },
  {
   "cell_type": "markdown",
   "metadata": {},
   "source": [
    "## 1. Platform"
   ]
  },
  {
   "cell_type": "markdown",
   "metadata": {},
   "source": [
    "### 1.1. Dotnet CLI"
   ]
  },
  {
   "cell_type": "markdown",
   "metadata": {},
   "source": [
    "How to create a console application?"
   ]
  },
  {
   "cell_type": "code",
   "execution_count": 4,
   "metadata": {},
   "outputs": [
    {
     "name": "stdout",
     "output_type": "stream",
     "text": [
      "\u001b[m\u001b[31m\u001b[m\u001b[31mCreating this template will make changes to existing files:\u001b[m\u001b[31m\u001b[m\r\n",
      "\u001b[m\u001b[31m\u001b[m\u001b[31m  Overwrite   App.csproj\u001b[m\u001b[31m\u001b[m\r\n",
      "\u001b[m\u001b[31m\u001b[m\u001b[31m  Overwrite   Program.cs\u001b[m\u001b[31m\u001b[m\r\n",
      "\r\n",
      "\u001b[m\u001b[31m\u001b[m\u001b[31mRerun the command and pass --force to accept and create.\u001b[m\u001b[31m\u001b[m\r\n"
     ]
    }
   ],
   "source": [
    "! dotnet new console -o App"
   ]
  },
  {
   "cell_type": "markdown",
   "metadata": {},
   "source": [
    "The application can now be compiled:"
   ]
  },
  {
   "cell_type": "code",
   "execution_count": 3,
   "metadata": {},
   "outputs": [
    {
     "name": "stdout",
     "output_type": "stream",
     "text": [
      "\u001b[?1h\u001b=\u001b[?1h\u001b=Microsoft (R) Build Engine version 16.7.0+7fb82e5b2 for .NET\n",
      "Copyright (C) Microsoft Corporation. All rights reserved.\n",
      "\n",
      "\u001b[?1h\u001b=  Determining projects to restore...\n",
      "\u001b[?1h\u001b=  All projects are up-to-date for restore.\n",
      "  App -> /home/student/net_2020_g2/01_platform/01_dotnet/App/bin/Debug/netcoreapp3.1/App.dll\n",
      "\u001b[m\u001b[32m\n",
      "Build succeeded.\n",
      "\u001b[m    0 Warning(s)\n",
      "\u001b[m    0 Error(s)\n",
      "\u001b[m\n",
      "Time Elapsed 00:00:03.53\n",
      "\u001b[?1h\u001b="
     ]
    }
   ],
   "source": [
    "! cd App && dotnet build"
   ]
  },
  {
   "cell_type": "markdown",
   "metadata": {},
   "source": [
    "And executed:"
   ]
  },
  {
   "cell_type": "code",
   "execution_count": 5,
   "metadata": {},
   "outputs": [
    {
     "name": "stdout",
     "output_type": "stream",
     "text": [
      "\u001b[?1h\u001b=\u001b[?1h\u001b=\u001b[?1h\u001b=\u001b[?1h\u001b=\u001b[?1h\u001b=\u001b[?1h\u001b=Hello World!\n",
      "\u001b[?1h\u001b="
     ]
    }
   ],
   "source": [
    "! cd App && dotnet run"
   ]
  },
  {
   "cell_type": "markdown",
   "metadata": {},
   "source": [
    "How to add library?"
   ]
  },
  {
   "cell_type": "code",
   "execution_count": 6,
   "metadata": {},
   "outputs": [
    {
     "name": "stdout",
     "output_type": "stream",
     "text": [
      "The template \"Class library\" was created successfully.\n",
      "\n",
      "Processing post-creation actions...\n",
      "Running 'dotnet restore' on Utils/Utils.csproj...\n",
      "  Determining projects to restore...\n",
      "  Restored /home/student/net_2020_g2/01_platform/01_dotnet/Utils/Utils.csproj (in 2.29 sec).\n",
      "\n",
      "Restore succeeded.\n",
      "\n"
     ]
    }
   ],
   "source": [
    "! dotnet new classlib -o Utils"
   ]
  },
  {
   "cell_type": "code",
   "execution_count": 7,
   "metadata": {},
   "outputs": [
    {
     "name": "stdout",
     "output_type": "stream",
     "text": [
      "\u001b[?1h\u001b=\u001b[?1h\u001b=Microsoft (R) Build Engine version 16.7.0+7fb82e5b2 for .NET\n",
      "Copyright (C) Microsoft Corporation. All rights reserved.\n",
      "\n",
      "\u001b[?1h\u001b=  Determining projects to restore...\n",
      "\u001b[?1h\u001b=  All projects are up-to-date for restore.\n",
      "  Utils -> /home/student/net_2020_g2/01_platform/01_dotnet/Utils/bin/Debug/netstandard2.0/Utils.dll\n",
      "\u001b[m\u001b[32m\n",
      "Build succeeded.\n",
      "\u001b[m    0 Warning(s)\n",
      "\u001b[m    0 Error(s)\n",
      "\u001b[m\n",
      "Time Elapsed 00:00:02.97\n",
      "\u001b[?1h\u001b="
     ]
    }
   ],
   "source": [
    "! cd Utils && dotnet build"
   ]
  },
  {
   "cell_type": "markdown",
   "metadata": {},
   "source": [
    "How to add unit tests?"
   ]
  },
  {
   "cell_type": "code",
   "execution_count": 8,
   "metadata": {},
   "outputs": [
    {
     "name": "stdout",
     "output_type": "stream",
     "text": [
      "The template \"xUnit Test Project\" was created successfully.\n",
      "\n",
      "Processing post-creation actions...\n",
      "Running 'dotnet restore' on Test/Test.csproj...\n",
      "  Determining projects to restore...\n",
      "  Restored /home/student/net_2020_g2/01_platform/01_dotnet/Test/Test.csproj (in 732 ms).\n",
      "\n",
      "Restore succeeded.\n",
      "\n"
     ]
    }
   ],
   "source": [
    "! dotnet new xunit -o Test"
   ]
  },
  {
   "cell_type": "code",
   "execution_count": 9,
   "metadata": {},
   "outputs": [
    {
     "name": "stdout",
     "output_type": "stream",
     "text": [
      "\u001b[?1h\u001b=\u001b[?1h\u001b=Microsoft (R) Build Engine version 16.7.0+7fb82e5b2 for .NET\n",
      "Copyright (C) Microsoft Corporation. All rights reserved.\n",
      "\n",
      "\u001b[?1h\u001b=  Determining projects to restore...\n",
      "\u001b[?1h\u001b=  All projects are up-to-date for restore.\n",
      "  Test -> /home/student/net_2020_g2/01_platform/01_dotnet/Test/bin/Debug/netcoreapp3.1/Test.dll\n",
      "\u001b[m\u001b[32m\n",
      "Build succeeded.\n",
      "\u001b[m    0 Warning(s)\n",
      "\u001b[m    0 Error(s)\n",
      "\u001b[m\n",
      "Time Elapsed 00:00:03.59\n",
      "\u001b[?1h\u001b="
     ]
    }
   ],
   "source": [
    "! cd Test && dotnet build"
   ]
  },
  {
   "cell_type": "code",
   "execution_count": 10,
   "metadata": {},
   "outputs": [
    {
     "name": "stdout",
     "output_type": "stream",
     "text": [
      "\u001b[?1h\u001b=\u001b[?1h\u001b=\u001b[?1h\u001b=\u001b[?1h\u001b=Test run for /home/student/net_2020_g2/01_platform/01_dotnet/Test/bin/Debug/netcoreapp3.1/Test.dll(.NETCoreApp,Version=v3.1)\n",
      "Microsoft (R) Test Execution Command Line Tool Version 16.7.0\n",
      "Copyright (c) Microsoft Corporation.  All rights reserved.\n",
      "\n",
      "Starting test execution, please wait...\n",
      "\n",
      "A total of 1 test files matched the specified pattern.\n",
      "\n",
      "\u001b[m\u001b[32mTest Run Successful.\n",
      "\u001b[m\u001b[mTotal tests: 1\n",
      "\u001b[m\u001b[m\u001b[32m     Passed: 1\n",
      "\u001b[m\u001b[m Total time: 2.1773 Seconds\n",
      "\u001b[m\u001b[?1h\u001b=\u001b[?1h\u001b="
     ]
    }
   ],
   "source": [
    "! cd Test && dotnet test"
   ]
  },
  {
   "cell_type": "markdown",
   "metadata": {},
   "source": [
    "All projects were created as independant entities.\n",
    "\n",
    "Now we need to bind them in order to use **Utils** in **App** and **Test**:"
   ]
  },
  {
   "cell_type": "code",
   "execution_count": 11,
   "metadata": {},
   "outputs": [
    {
     "name": "stdout",
     "output_type": "stream",
     "text": [
      "Reference `..\\Utils\\Utils.csproj` added to the project.\r\n"
     ]
    }
   ],
   "source": [
    "! cd App && dotnet add reference ../Utils"
   ]
  },
  {
   "cell_type": "code",
   "execution_count": 12,
   "metadata": {},
   "outputs": [
    {
     "name": "stdout",
     "output_type": "stream",
     "text": [
      "\u001b[?1h\u001b=\u001b[?1h\u001b=\u001b[?1h\u001b=\u001b[?1h\u001b=\u001b[?1h\u001b=\u001b[?1h\u001b=Hello World!\n",
      "\u001b[?1h\u001b="
     ]
    }
   ],
   "source": [
    "! cd App && dotnet run"
   ]
  },
  {
   "cell_type": "code",
   "execution_count": 13,
   "metadata": {},
   "outputs": [
    {
     "name": "stdout",
     "output_type": "stream",
     "text": [
      "Reference `..\\Utils\\Utils.csproj` added to the project.\r\n"
     ]
    }
   ],
   "source": [
    "! cd Test && dotnet add reference ../Utils"
   ]
  },
  {
   "cell_type": "code",
   "execution_count": 14,
   "metadata": {},
   "outputs": [
    {
     "name": "stdout",
     "output_type": "stream",
     "text": [
      "\u001b[?1h\u001b=\u001b[?1h\u001b=\u001b[?1h\u001b=\u001b[?1h\u001b=Test run for /home/student/net_2020_g2/01_platform/01_dotnet/Test/bin/Debug/netcoreapp3.1/Test.dll(.NETCoreApp,Version=v3.1)\n",
      "Microsoft (R) Test Execution Command Line Tool Version 16.7.0\n",
      "Copyright (c) Microsoft Corporation.  All rights reserved.\n",
      "\n",
      "Starting test execution, please wait...\n",
      "\n",
      "A total of 1 test files matched the specified pattern.\n",
      "\n",
      "\u001b[m\u001b[32mTest Run Successful.\n",
      "\u001b[m\u001b[mTotal tests: 1\n",
      "\u001b[m\u001b[m\u001b[32m     Passed: 1\n",
      "\u001b[m\u001b[m Total time: 1.8899 Seconds\n",
      "\u001b[m\u001b[?1h\u001b=\u001b[?1h\u001b="
     ]
    }
   ],
   "source": [
    "! cd Test && dotnet test"
   ]
  },
  {
   "cell_type": "markdown",
   "metadata": {},
   "source": [
    "How to create empty solution?"
   ]
  },
  {
   "cell_type": "code",
   "execution_count": 15,
   "metadata": {},
   "outputs": [
    {
     "name": "stdout",
     "output_type": "stream",
     "text": [
      "The template \"Solution File\" was created successfully.\r\n"
     ]
    }
   ],
   "source": [
    "! dotnet new sln"
   ]
  },
  {
   "cell_type": "markdown",
   "metadata": {},
   "source": [
    "How to add projects to solution?"
   ]
  },
  {
   "cell_type": "code",
   "execution_count": null,
   "metadata": {},
   "outputs": [],
   "source": [
    "! dotnet sln add Utils"
   ]
  },
  {
   "cell_type": "code",
   "execution_count": null,
   "metadata": {},
   "outputs": [],
   "source": [
    "! dotnet sln add App"
   ]
  },
  {
   "cell_type": "code",
   "execution_count": null,
   "metadata": {},
   "outputs": [],
   "source": [
    "! dotnet sln add Test"
   ]
  },
  {
   "cell_type": "markdown",
   "metadata": {},
   "source": [
    "Now commands can be executed from solution directory:"
   ]
  },
  {
   "cell_type": "code",
   "execution_count": null,
   "metadata": {},
   "outputs": [],
   "source": [
    "! dotnet build"
   ]
  },
  {
   "cell_type": "code",
   "execution_count": null,
   "metadata": {},
   "outputs": [],
   "source": [
    "! dotnet test"
   ]
  },
  {
   "cell_type": "code",
   "execution_count": null,
   "metadata": {},
   "outputs": [],
   "source": [
    "! dotnet run --project App"
   ]
  },
  {
   "cell_type": "markdown",
   "metadata": {},
   "source": [
    "For many useful inspection we can install additional FxCop package:"
   ]
  },
  {
   "cell_type": "code",
   "execution_count": null,
   "metadata": {},
   "outputs": [],
   "source": [
    "! cd Utils && dotnet add package Microsoft.CodeAnalysis.FxCopAnalyzers --version 3.3.0"
   ]
  },
  {
   "cell_type": "code",
   "execution_count": null,
   "metadata": {},
   "outputs": [],
   "source": [
    "! cd App && dotnet add package Microsoft.CodeAnalysis.FxCopAnalyzers --version 3.3.0"
   ]
  },
  {
   "cell_type": "code",
   "execution_count": null,
   "metadata": {},
   "outputs": [],
   "source": [
    "! cd Test && dotnet add package Microsoft.CodeAnalysis.FxCopAnalyzers --version 3.3.0"
   ]
  },
  {
   "cell_type": "code",
   "execution_count": null,
   "metadata": {},
   "outputs": [],
   "source": [
    "! dotnet build"
   ]
  },
  {
   "cell_type": "markdown",
   "metadata": {},
   "source": [
    "And for the rules to be enforced let's treat all warnings as errors:\n",
    "\n",
    "```xml\n",
    "<Project>\n",
    "  <PropertyGroup>\n",
    "    <TreatWarningsAsErrors>true</TreatWarningsAsErrors>\n",
    "  </PropertyGroup>\n",
    "</Project>\n",
    "```\n",
    "\n",
    "Edite the [Utils/Utils.csproj](../../../edit/01_platform/01_dotnet/Utils/Utils.csproj), [App/App.csproj](../../../edit/01_platform/01_dotnet/App/App.csproj) and [Test/Test.csproj](../../../edit/01_platform/01_dotnet/Test/Test.csproj)."
   ]
  },
  {
   "cell_type": "code",
   "execution_count": null,
   "metadata": {},
   "outputs": [],
   "source": [
    "! dotnet build"
   ]
  },
  {
   "cell_type": "markdown",
   "metadata": {},
   "source": [
    "And, for now, disable the localisation errors:\n",
    "\n",
    "```xml\n",
    "<Project>\n",
    "  <PropertyGroup>\n",
    "    <NoWarn>CA1303</NoWarn>\n",
    "  </PropertyGroup>\n",
    "</Project>\n",
    "```\n",
    "\n",
    "Edite the [Utils/Utils.csproj](../../../edit/01_platform/01_dotnet/Utils/Utils.csproj), [App/App.csproj](../../../edit/01_platform/01_dotnet/App/App.csproj) and [Test/Test.csproj](../../../edit/01_platform/01_dotnet/Test/Test.csproj)."
   ]
  },
  {
   "cell_type": "code",
   "execution_count": null,
   "metadata": {},
   "outputs": [],
   "source": [
    "! dotnet build"
   ]
  },
  {
   "cell_type": "markdown",
   "metadata": {},
   "source": [
    "There is still and error in [App/Program.cs](../../../edit/01_platform/01_dotnet/App/Program.cs) - fix it!"
   ]
  },
  {
   "cell_type": "code",
   "execution_count": null,
   "metadata": {},
   "outputs": [],
   "source": [
    "! dotnet build"
   ]
  },
  {
   "cell_type": "markdown",
   "metadata": {},
   "source": [
    "It is also a good idea to use latest and greatest features from C# and enable nullable references:\n",
    "\n",
    "```xml\n",
    "<Project>\n",
    "  <PropertyGroup>\n",
    "    <LangVersion>preview</LangVersion>\n",
    "    <Nullable>enable</Nullable>\n",
    "  </PropertyGroup>\n",
    "</Project>\n",
    "```\n",
    "\n",
    "Edite the [Utils/Utils.csproj](../../../edit/01_platform/01_dotnet/Utils/Utils.csproj), [App/App.csproj](../../../edit/01_platform/01_dotnet/App/App.csproj) and [Test/Test.csproj](../../../edit/01_platform/01_dotnet/Test/Test.csproj)."
   ]
  },
  {
   "cell_type": "markdown",
   "metadata": {},
   "source": [
    "\n",
    "For libraries version of TargetFramework framework can be updated to 2.1 (latest preview):\n",
    "```xml\n",
    "  <PropertyGroup>\n",
    "    <TargetFramework>netstandard2.1</TargetFramework>\n",
    "  </PropertyGroup>\n",
    "```\n",
    "\n",
    "Edite the [Utils/Utils.csproj](../../../edit/01_platform/01_dotnet/Utils/Utils.csproj)."
   ]
  },
  {
   "cell_type": "markdown",
   "metadata": {},
   "source": [
    "Check evertyhing:"
   ]
  },
  {
   "cell_type": "code",
   "execution_count": null,
   "metadata": {},
   "outputs": [],
   "source": [
    "! dotnet build"
   ]
  },
  {
   "cell_type": "code",
   "execution_count": null,
   "metadata": {},
   "outputs": [],
   "source": [
    "! dotnet test"
   ]
  },
  {
   "cell_type": "code",
   "execution_count": null,
   "metadata": {},
   "outputs": [],
   "source": [
    "! dotnet run --project App"
   ]
  },
  {
   "cell_type": "markdown",
   "metadata": {},
   "source": [
    "Cleanup:"
   ]
  },
  {
   "cell_type": "code",
   "execution_count": null,
   "metadata": {},
   "outputs": [],
   "source": [
    "rm -rf App Utils Test *.sln"
   ]
  }
 ],
 "metadata": {
  "kernelspec": {
   "display_name": "Python 3",
   "language": "python",
   "name": "python3"
  },
  "language_info": {
   "codemirror_mode": {
    "name": "ipython",
    "version": 3
   },
   "file_extension": ".py",
   "mimetype": "text/x-python",
   "name": "python",
   "nbconvert_exporter": "python",
   "pygments_lexer": "ipython3",
   "version": "3.8.3"
  }
 },
 "nbformat": 4,
 "nbformat_minor": 4
}
