{
 "cells": [
  {
   "cell_type": "markdown",
   "metadata": {},
   "source": [
    "# NET 2020"
   ]
  },
  {
   "cell_type": "markdown",
   "metadata": {},
   "source": [
    "## 5. Lambdas, delegates, events"
   ]
  },
  {
   "cell_type": "markdown",
   "metadata": {},
   "source": [
    "### 5.2. Exercise"
   ]
  },
  {
   "cell_type": "markdown",
   "metadata": {},
   "source": [
    "In this exercise, you should:\n",
    "\n",
    "1. Implement the class hierarchy from the UML diagram\n",
    "2. Create unit tests and get 100% code coverage"
   ]
  },
  {
   "cell_type": "markdown",
   "metadata": {},
   "source": [
    "#### UML"
   ]
  },
  {
   "cell_type": "code",
   "execution_count": null,
   "metadata": {},
   "outputs": [],
   "source": [
    "import iplantuml"
   ]
  },
  {
   "cell_type": "code",
   "execution_count": null,
   "metadata": {},
   "outputs": [],
   "source": [
    "%%plantuml\n",
    "\n",
    "@startuml\n",
    "\n",
    "class Button {\n",
    "+ <<get>> string Label\n",
    "+ <<event>> EventHandler<ClickedEventArgs>? Clicked\n",
    "+ void Click()\n",
    "# <<virtual>> void OnClicked()\n",
    "}\n",
    "\n",
    "namespace System {\n",
    "class EventHandler<T>\n",
    "}\n",
    "\n",
    "Button o-- System.EventHandler\n",
    "\n",
    "class LoggingButton {\n",
    "# <<override>> void OnClicked()\n",
    "}\n",
    "\n",
    "Button <|-- LoggingButton\n",
    "\n",
    "namespace System {\n",
    "class EventArgs\n",
    "}\n",
    "\n",
    "class ClickedEventArgs {\n",
    "+ <<get>> string Label\n",
    "}\n",
    "\n",
    "System.EventArgs <|-- ClickedEventArgs\n",
    "\n",
    "class Window {\n",
    "- void ButtonOk_Clicked(object sender, ClickedEventArgs e)\n",
    "- void ButtonOk_Clicked(object sender, ClickedEventArgs e)\n",
    "-- testing --\n",
    "+ SimulateClicks()\n",
    "+ <<get>> <<private set>> bool HandledButtonOkClick\n",
    "+ <<get>> <<private set>> bool HandledButtonCancelClick\n",
    "-- generated --\n",
    "- LoggingButton _buttonOk\n",
    "- LoggingButton _buttonCancel\n",
    "- InitializeComponent()\n",
    "}\n",
    "\n",
    "note as WindowNote\n",
    "This class is split into two parts.\n",
    "One part contains user code for event handlers.\n",
    "Second one contains code that will be generated eg. in WPF.\n",
    "end note\n",
    "\n",
    "WindowNote -- Window\n",
    "\n",
    "Window o-- LoggingButton\n",
    "\n",
    "Button ..> ClickedEventArgs : publishes\n",
    "Window ..> ClickedEventArgs : handles\n",
    "Window ..> Button : subscribes\n",
    "\n",
    "@enduml"
   ]
  },
  {
   "cell_type": "markdown",
   "metadata": {},
   "source": [
    "Final project structure in my solution:\n",
    "\n",
    "```bash\n",
    "project/\n",
    "├── App\n",
    "│   ├── App.csproj\n",
    "│   └── Program.cs\n",
    "├── project.sln\n",
    "├── Test\n",
    "│   ├── ButtonTest.cs\n",
    "│   ├── LoggingButtonTest.cs\n",
    "│   ├── Test.csproj\n",
    "│   └── WindowTest.cs\n",
    "└── Utils\n",
    "    ├── Button.cs\n",
    "    ├── ClickedEventArgs.cs\n",
    "    ├── LoggingButton.cs\n",
    "    ├── Utils.csproj\n",
    "    ├── Window.cs\n",
    "    └── Window.generated.cs\n",
    "\n",
    "3 directories, 13 files\n",
    "```\n",
    "\n",
    "The ```Window``` is a partial class."
   ]
  },
  {
   "cell_type": "markdown",
   "metadata": {},
   "source": [
    "To start editing the code:"
   ]
  },
  {
   "cell_type": "code",
   "execution_count": null,
   "metadata": {},
   "outputs": [],
   "source": [
    "! rider project/project.sln"
   ]
  }
 ],
 "metadata": {
  "kernelspec": {
   "display_name": "Python 3",
   "language": "python",
   "name": "python3"
  },
  "language_info": {
   "codemirror_mode": {
    "name": "ipython",
    "version": 3
   },
   "file_extension": ".py",
   "mimetype": "text/x-python",
   "name": "python",
   "nbconvert_exporter": "python",
   "pygments_lexer": "ipython3",
   "version": "3.8.3"
  }
 },
 "nbformat": 4,
 "nbformat_minor": 4
}
